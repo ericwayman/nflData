{
 "cells": [
  {
   "cell_type": "markdown",
   "metadata": {},
   "source": [
    "Imports"
   ]
  },
  {
   "cell_type": "code",
   "execution_count": 1,
   "metadata": {
    "collapsed": false
   },
   "outputs": [
    {
     "name": "stdout",
     "output_type": "stream",
     "text": [
      "Populating the interactive namespace from numpy and matplotlib\n"
     ]
    }
   ],
   "source": [
    "import numpy as np\n",
    "import pandas as pd\n",
    "from patsy import dmatrices\n",
    "import matplotlib.pyplot as plt\n",
    "from sklearn.linear_model import LogisticRegression\n",
    "from sklearn.cross_validation import train_test_split\n",
    "from sklearn import metrics\n",
    "from sklearn.cross_validation import cross_val_score\n",
    "from sqlalchemy import create_engine\n",
    "%pylab inline"
   ]
  },
  {
   "cell_type": "markdown",
   "metadata": {},
   "source": [
    "Load data"
   ]
  },
  {
   "cell_type": "code",
   "execution_count": 2,
   "metadata": {
    "collapsed": false
   },
   "outputs": [
    {
     "data": {
      "text/html": [
       "<div style=\"max-height:1000px;max-width:1500px;overflow:auto;\">\n",
       "<table border=\"1\" class=\"dataframe\">\n",
       "  <thead>\n",
       "    <tr style=\"text-align: right;\">\n",
       "      <th></th>\n",
       "      <th>index</th>\n",
       "      <th>Date</th>\n",
       "      <th>Visitor</th>\n",
       "      <th>VisitorScore</th>\n",
       "      <th>HomeTeam</th>\n",
       "      <th>HomeScore</th>\n",
       "      <th>Line</th>\n",
       "      <th>Season</th>\n",
       "      <th>Favorite</th>\n",
       "      <th>HomeWinner</th>\n",
       "      <th>VisitorWinner</th>\n",
       "      <th>HL4</th>\n",
       "      <th>AL4</th>\n",
       "      <th>HomeWinPercentage</th>\n",
       "      <th>AwayWinPercentage</th>\n",
       "    </tr>\n",
       "  </thead>\n",
       "  <tbody>\n",
       "    <tr>\n",
       "      <th>56</th>\n",
       "      <td> 56</td>\n",
       "      <td> 10/01/1978</td>\n",
       "      <td> Cincinnati Bengals</td>\n",
       "      <td> 12</td>\n",
       "      <td> San Francisco 49ers</td>\n",
       "      <td> 28</td>\n",
       "      <td>-2.5</td>\n",
       "      <td> 1978</td>\n",
       "      <td> 0</td>\n",
       "      <td> 1</td>\n",
       "      <td> 0</td>\n",
       "      <td> 1</td>\n",
       "      <td> 1</td>\n",
       "      <td> 0.25</td>\n",
       "      <td> 0.25</td>\n",
       "    </tr>\n",
       "    <tr>\n",
       "      <th>57</th>\n",
       "      <td> 57</td>\n",
       "      <td> 10/01/1978</td>\n",
       "      <td>      Detroit Lions</td>\n",
       "      <td> 14</td>\n",
       "      <td>   Green Bay Packers</td>\n",
       "      <td> 35</td>\n",
       "      <td> 5.0</td>\n",
       "      <td> 1978</td>\n",
       "      <td> 1</td>\n",
       "      <td> 1</td>\n",
       "      <td> 0</td>\n",
       "      <td> 3</td>\n",
       "      <td> 1</td>\n",
       "      <td> 0.75</td>\n",
       "      <td> 0.25</td>\n",
       "    </tr>\n",
       "    <tr>\n",
       "      <th>58</th>\n",
       "      <td> 58</td>\n",
       "      <td> 10/01/1978</td>\n",
       "      <td>     Houston Oilers</td>\n",
       "      <td> 16</td>\n",
       "      <td>    Cleveland Browns</td>\n",
       "      <td> 13</td>\n",
       "      <td> 5.0</td>\n",
       "      <td> 1978</td>\n",
       "      <td> 1</td>\n",
       "      <td> 0</td>\n",
       "      <td> 1</td>\n",
       "      <td> 2</td>\n",
       "      <td> 0</td>\n",
       "      <td> 0.50</td>\n",
       "      <td> 0.00</td>\n",
       "    </tr>\n",
       "    <tr>\n",
       "      <th>59</th>\n",
       "      <td> 59</td>\n",
       "      <td> 10/01/1978</td>\n",
       "      <td> Kansas City Chiefs</td>\n",
       "      <td> 13</td>\n",
       "      <td>       Buffalo Bills</td>\n",
       "      <td> 28</td>\n",
       "      <td> 3.0</td>\n",
       "      <td> 1978</td>\n",
       "      <td> 1</td>\n",
       "      <td> 1</td>\n",
       "      <td> 0</td>\n",
       "      <td> 3</td>\n",
       "      <td> 3</td>\n",
       "      <td> 0.75</td>\n",
       "      <td> 0.75</td>\n",
       "    </tr>\n",
       "    <tr>\n",
       "      <th>60</th>\n",
       "      <td> 60</td>\n",
       "      <td> 10/01/1978</td>\n",
       "      <td>    New York Giants</td>\n",
       "      <td> 20</td>\n",
       "      <td>     Atlanta Falcons</td>\n",
       "      <td> 23</td>\n",
       "      <td>-3.0</td>\n",
       "      <td> 1978</td>\n",
       "      <td> 0</td>\n",
       "      <td> 1</td>\n",
       "      <td> 0</td>\n",
       "      <td> 2</td>\n",
       "      <td> 4</td>\n",
       "      <td> 0.50</td>\n",
       "      <td> 1.00</td>\n",
       "    </tr>\n",
       "  </tbody>\n",
       "</table>\n",
       "</div>"
      ],
      "text/plain": [
       "    index        Date             Visitor  VisitorScore             HomeTeam  \\\n",
       "56     56  10/01/1978  Cincinnati Bengals            12  San Francisco 49ers   \n",
       "57     57  10/01/1978       Detroit Lions            14    Green Bay Packers   \n",
       "58     58  10/01/1978      Houston Oilers            16     Cleveland Browns   \n",
       "59     59  10/01/1978  Kansas City Chiefs            13        Buffalo Bills   \n",
       "60     60  10/01/1978     New York Giants            20      Atlanta Falcons   \n",
       "\n",
       "    HomeScore  Line  Season  Favorite  HomeWinner  VisitorWinner  HL4  AL4  \\\n",
       "56         28  -2.5    1978         0           1              0    1    1   \n",
       "57         35   5.0    1978         1           1              0    3    1   \n",
       "58         13   5.0    1978         1           0              1    2    0   \n",
       "59         28   3.0    1978         1           1              0    3    3   \n",
       "60         23  -3.0    1978         0           1              0    2    4   \n",
       "\n",
       "    HomeWinPercentage  AwayWinPercentage  \n",
       "56               0.25               0.25  \n",
       "57               0.75               0.25  \n",
       "58               0.50               0.00  \n",
       "59               0.75               0.75  \n",
       "60               0.50               1.00  "
      ]
     },
     "execution_count": 2,
     "metadata": {},
     "output_type": "execute_result"
    }
   ],
   "source": [
    "disk_engine = create_engine('sqlite:///lineData.db')\n",
    "df = pd.read_sql_query('SELECT * FROM data', disk_engine)\n",
    "df = df.dropna()\n",
    "df.head(5)"
   ]
  },
  {
   "cell_type": "code",
   "execution_count": 3,
   "metadata": {
    "collapsed": true
   },
   "outputs": [],
   "source": [
    "#set the divider between training and testing data\n",
    "dividerYear =2003\n",
    "trainingDf = testDF = df[df[\"Season\"] < dividerYear]\n",
    "trainingDF = testDF.dropna()\n",
    "testDF = df[df[\"Season\"] >= dividerYear]\n",
    "testDF = testDF.dropna()\n",
    "#create design matrix and response data frames\n",
    "y, X = dmatrices('HomeWinner ~ HomeWinPercentage + AwayWinPercentage + \\\n",
    "                    HL4 + AL4 + Favorite',trainingDF, return_type=\"dataframe\")\n",
    "yTest, XTest = dmatrices('HomeWinner ~ HomeWinPercentage + AwayWinPercentage + \\\n",
    "                    HL4 + AL4 + Favorite',testDF, return_type=\"dataframe\")"
   ]
  },
  {
   "cell_type": "code",
   "execution_count": 4,
   "metadata": {
    "collapsed": false
   },
   "outputs": [
    {
     "name": "stdout",
     "output_type": "stream",
     "text": [
      "Index([u'Intercept', u'HomeWinPercentage', u'AwayWinPercentage', u'HL4', u'AL4', u'Favorite'], dtype='object')\n"
     ]
    }
   ],
   "source": [
    "print X.columns"
   ]
  },
  {
   "cell_type": "code",
   "execution_count": 5,
   "metadata": {
    "collapsed": false
   },
   "outputs": [],
   "source": [
    "#flatten y, and yTest into 1D array for regression\n",
    "y = np.ravel(y)\n",
    "yTest = np.ravel(yTest)"
   ]
  },
  {
   "cell_type": "code",
   "execution_count": 6,
   "metadata": {
    "collapsed": false
   },
   "outputs": [
    {
     "data": {
      "text/plain": [
       "0.53002170243549551"
      ]
     },
     "execution_count": 6,
     "metadata": {},
     "output_type": "execute_result"
    }
   ],
   "source": [
    "# instantiate a logistic regression model, and fit with training data X and y\n",
    "logReg = LogisticRegression()\n",
    "logReg.fit(X,y)\n",
    "#compute acuracy on training data\n",
    "logReg.score(X,y)"
   ]
  },
  {
   "cell_type": "code",
   "execution_count": 7,
   "metadata": {
    "collapsed": false
   },
   "outputs": [
    {
     "data": {
      "text/html": [
       "<div style=\"max-height:1000px;max-width:1500px;overflow:auto;\">\n",
       "<table border=\"1\" class=\"dataframe\">\n",
       "  <thead>\n",
       "    <tr style=\"text-align: right;\">\n",
       "      <th></th>\n",
       "      <th>0</th>\n",
       "      <th>1</th>\n",
       "    </tr>\n",
       "  </thead>\n",
       "  <tbody>\n",
       "    <tr>\n",
       "      <th>0</th>\n",
       "      <td>         Intercept</td>\n",
       "      <td>   [0.0346415277286]</td>\n",
       "    </tr>\n",
       "    <tr>\n",
       "      <th>1</th>\n",
       "      <td> HomeWinPercentage</td>\n",
       "      <td>   [-0.250951695404]</td>\n",
       "    </tr>\n",
       "    <tr>\n",
       "      <th>2</th>\n",
       "      <td> AwayWinPercentage</td>\n",
       "      <td>    [0.342578395634]</td>\n",
       "    </tr>\n",
       "    <tr>\n",
       "      <th>3</th>\n",
       "      <td>               HL4</td>\n",
       "      <td> [0.000939640081757]</td>\n",
       "    </tr>\n",
       "    <tr>\n",
       "      <th>4</th>\n",
       "      <td>               AL4</td>\n",
       "      <td> [-0.00209436824447]</td>\n",
       "    </tr>\n",
       "    <tr>\n",
       "      <th>5</th>\n",
       "      <td>          Favorite</td>\n",
       "      <td>   [-0.191657229901]</td>\n",
       "    </tr>\n",
       "  </tbody>\n",
       "</table>\n",
       "</div>"
      ],
      "text/plain": [
       "                   0                    1\n",
       "0          Intercept    [0.0346415277286]\n",
       "1  HomeWinPercentage    [-0.250951695404]\n",
       "2  AwayWinPercentage     [0.342578395634]\n",
       "3                HL4  [0.000939640081757]\n",
       "4                AL4  [-0.00209436824447]\n",
       "5           Favorite    [-0.191657229901]"
      ]
     },
     "execution_count": 7,
     "metadata": {},
     "output_type": "execute_result"
    }
   ],
   "source": [
    "# examine the coefficients\n",
    "pd.DataFrame(zip(X.columns, np.transpose(logReg.coef_)))"
   ]
  },
  {
   "cell_type": "code",
   "execution_count": 8,
   "metadata": {
    "collapsed": false
   },
   "outputs": [],
   "source": [
    "#predict test data\n",
    "preds = logReg.predict(XTest)"
   ]
  },
  {
   "cell_type": "code",
   "execution_count": 9,
   "metadata": {
    "collapsed": false
   },
   "outputs": [
    {
     "name": "stdout",
     "output_type": "stream",
     "text": [
      "[[ 0.5142757   0.4857243 ]\n",
      " [ 0.51970736  0.48029264]\n",
      " [ 0.41540006  0.58459994]\n",
      " ..., \n",
      " [ 0.51960245  0.48039755]\n",
      " [ 0.5270577   0.4729423 ]\n",
      " [ 0.53274686  0.46725314]]\n"
     ]
    }
   ],
   "source": [
    "# generate class probabilities\n",
    "probs = logReg.predict_proba(XTest)\n",
    "print probs"
   ]
  },
  {
   "cell_type": "code",
   "execution_count": 10,
   "metadata": {
    "collapsed": false
   },
   "outputs": [
    {
     "name": "stdout",
     "output_type": "stream",
     "text": [
      "0.512673362028\n",
      "0.508533424797\n"
     ]
    }
   ],
   "source": [
    "#compute some metrics\n",
    "print metrics.accuracy_score(yTest, preds)\n",
    "print metrics.roc_auc_score(yTest, probs[:, 1])"
   ]
  },
  {
   "cell_type": "code",
   "execution_count": 11,
   "metadata": {
    "collapsed": false
   },
   "outputs": [
    {
     "name": "stdout",
     "output_type": "stream",
     "text": [
      "[[690 407]\n",
      " [612 382]]\n",
      "             precision    recall  f1-score   support\n",
      "\n",
      "        0.0       0.53      0.63      0.58      1097\n",
      "        1.0       0.48      0.38      0.43       994\n",
      "\n",
      "avg / total       0.51      0.51      0.51      2091\n",
      "\n"
     ]
    }
   ],
   "source": [
    "#entry i,j of confusion matrix is the number of observations in group i\n",
    "#predicted to be in group j.\n",
    "print metrics.confusion_matrix(yTest, preds)\n",
    "print metrics.classification_report(yTest, preds)"
   ]
  },
  {
   "cell_type": "code",
   "execution_count": 12,
   "metadata": {
    "collapsed": false
   },
   "outputs": [
    {
     "name": "stdout",
     "output_type": "stream",
     "text": [
      "[ 0.53975904  0.5060241   0.51084337  0.52048193  0.49638554  0.51566265\n",
      "  0.5253012   0.57004831  0.48309179  0.5531401 ]\n",
      "0.522073802456\n"
     ]
    }
   ],
   "source": [
    "# evaluate the model using 10-fold cross-validation\n",
    "scores = cross_val_score(LogisticRegression(), X, y, scoring='accuracy', cv=10)\n",
    "print scores\n",
    "print scores.mean()"
   ]
  },
  {
   "cell_type": "code",
   "execution_count": 13,
   "metadata": {
    "collapsed": false
   },
   "outputs": [
    {
     "name": "stdout",
     "output_type": "stream",
     "text": [
      "Area under the ROC curve : 0.508533\n"
     ]
    },
    {
     "data": {
      "image/png": "[encoded data removed]",
      "text/plain": [
       "<matplotlib.figure.Figure at 0x10a0e0dd0>"
      ]
     },
     "metadata": {},
     "output_type": "display_data"
    }
   ],
   "source": [
    "# Compute ROC curve and area the curve\n",
    "#fpr = false positive rate, tpr = true positive rate\n",
    "fpr, tpr, thresholds = metrics.roc_curve(yTest, probs[:, 1])\n",
    "#area under curve for roc curve\n",
    "roc_auc = metrics.auc(fpr, tpr)\n",
    "print \"Area under the ROC curve : %f\" % roc_auc\n",
    "\n",
    "# Plot ROC curve\n",
    "plt.clf()\n",
    "plt.plot(fpr, tpr, label='ROC curve (area = %0.2f)' % roc_auc)\n",
    "#add line of no-discrimination)\n",
    "plt.plot([0, 1], [0, 1], 'k--')\n",
    "plt.xlim([0.0, 1.0])\n",
    "plt.ylim([0.0, 1.0])\n",
    "plt.xlabel('False Positive Rate')\n",
    "plt.ylabel('True Positive Rate')\n",
    "plt.title('Receiver operating characteristic example')\n",
    "plt.legend(loc=\"lower right\")\n",
    "plt.show()"
   ]
  },
  {
   "cell_type": "markdown",
   "metadata": {},
   "source": [
    "So it looks like the logistic regression model is not appreciably better than random guessing.  No inefficiencies found in the market."
   ]
  },
  {
   "cell_type": "code",
   "execution_count": null,
   "metadata": {
    "collapsed": true
   },
   "outputs": [],
   "source": []
  }
 ],
 "metadata": {
  "kernelspec": {
   "display_name": "Python 2",
   "language": "python",
   "name": "python2"
  },
  "language_info": {
   "codemirror_mode": {
    "name": "ipython",
    "version": 2
   },
   "file_extension": ".py",
   "mimetype": "text/x-python",
   "name": "python",
   "nbconvert_exporter": "python",
   "pygments_lexer": "ipython2",
   "version": "2.7.9"
  }
 },
 "nbformat": 4,
 "nbformat_minor": 0
}
